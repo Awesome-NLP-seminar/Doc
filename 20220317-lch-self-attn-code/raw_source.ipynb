{
 "cells": [
  {
   "cell_type": "code",
   "execution_count": 1,
   "metadata": {},
   "outputs": [],
   "source": [
    "import numpy as np\n",
    "from tqdm import tqdm\n",
    "import pickle as pkl\n",
    "import os"
   ]
  },
  {
   "cell_type": "code",
   "execution_count": 2,
   "metadata": {},
   "outputs": [],
   "source": [
    "class Preload_Data:\n",
    "\n",
    "    def __init__(self,config):\n",
    "        self.UNK,self.PAD = '<UNK>', '<PAD>'\n",
    "        self.MAX_VOCAB_SIZE = 10000\n",
    "        self.config = config\n",
    "\n",
    "    def build_vocab(self,file_path, tokenizer, max_size, min_freq):\n",
    "\n",
    "        vocab_dic = {}\n",
    "        with open(file_path, 'r', encoding='UTF-8') as f:\n",
    "            for line in tqdm(f):\n",
    "                lin = line.strip()\n",
    "                if not lin:\n",
    "                    continue\n",
    "                content = lin.split('\\t')[0]\n",
    "                for word in tokenizer(content):\n",
    "                    vocab_dic[word] = vocab_dic.get(word, 0) + 1\n",
    "            vocab_list = sorted([_ for _ in vocab_dic.items() if _[1] >= min_freq], key=lambda x: x[1], reverse=True)[\n",
    "                         :max_size]\n",
    "            vocab_dic = {word_count[0]: idx for idx, word_count in enumerate(vocab_list)}\n",
    "            vocab_dic.update({self.UNK: len(vocab_dic), self.PAD: len(vocab_dic) + 1})\n",
    "        return vocab_dic\n",
    "\n",
    "    def build_dataset(self):\n",
    "        tokenizer = lambda x: [y for y in x]\n",
    "        if os.path.exists(self.config.vocab_path):\n",
    "            vocab = pkl.load(open(self.config.vocab_path, 'rb'))\n",
    "        else:\n",
    "            vocab = self.build_vocab(self.config.train_path, tokenizer=tokenizer, max_size=self.MAX_VOCAB_SIZE, min_freq=1)\n",
    "            pkl.dump(vocab, open(self.config.vocab_path, 'wb'))\n",
    "        vocab_size = len(vocab)\n",
    "        def load_dataset(path,):\n",
    "            all_contents = []\n",
    "            labels = []\n",
    "            # seq_lens = []\n",
    "            max_len = 0\n",
    "            with open(path, 'r', encoding='UTF-8') as f:\n",
    "                \n",
    "                for line in tqdm(f):\n",
    "                    lin = line.strip()\n",
    "                    if not lin:\n",
    "                        continue\n",
    "                    temp_list = lin.split('\\t')\n",
    "                    # print(temp_list)\n",
    "                    label = temp_list[1]\n",
    "                    if len(temp_list) > 2:\n",
    "\n",
    "                        content = ''\n",
    "                        for i in range(1, len(temp_list)):\n",
    "                            content += temp_list[i]\n",
    "                        # print('content:',content)\n",
    "                    elif len(temp_list) == 2:\n",
    "                        content = temp_list[0]\n",
    "                        # print(content)\n",
    "                    else:\n",
    "                        raise ValueError\n",
    "                    if len(content) > max_len:\n",
    "                        max_len = len(content)\n",
    "                    all_contents.append(content)\n",
    "                    labels.append(label)\n",
    "                    \n",
    "            res_sentences = []\n",
    "            res_labels = []\n",
    "            res_masks = []\n",
    "            pad_size = max_len\n",
    "            for i in range(len(all_contents)):\n",
    "                content = all_contents[i]\n",
    "                label = labels[i]\n",
    "                mask = np.zeros(max_len)\n",
    "                \n",
    "                mask[:len(content)] = 1\n",
    "                words_line = []\n",
    "                token = tokenizer(content)\n",
    "                # seq_len = len(token)\n",
    "                if pad_size:\n",
    "                    if len(token) < pad_size:\n",
    "                        token.extend([self.PAD] * (pad_size - len(token)))\n",
    "                    else:\n",
    "                        token = token[:pad_size]\n",
    "                        seq_len = pad_size\n",
    "\n",
    "                for word in token:\n",
    "                    words_line.append(vocab.get(word, vocab.get(self.UNK)))\n",
    "                res_sentences.append(words_line)\n",
    "                res_labels.append(int(label))\n",
    "                res_masks.append(mask)\n",
    "                # seq_lens.append(seq_len)\n",
    "            return res_sentences,res_labels,res_masks,all_contents\n",
    "\n",
    "        train_text,train_labels,train_masks,train_contents = load_dataset(self.config.train_path)\n",
    "        train_masks = np.array(train_masks)\n",
    "        dev_text,dev_labels,dev_masks,dev_contents = load_dataset(self.config.dev_path)\n",
    "        dev_masks = np.array(dev_masks)\n",
    "        test_text,test_labels,test_masks,test_contents = load_dataset(self.config.test_path)\n",
    "        test_masks = np.array(test_masks)\n",
    "\n",
    "        return train_text,train_labels,train_masks,dev_text,dev_labels,dev_masks,\\\n",
    "    test_text,test_labels,test_masks,vocab_size,train_contents,dev_contents,test_contents\n",
    "\n",
    "class Dataset:\n",
    "    def __init__(self,text,labels,masks):\n",
    "        self.text = torch.tensor(text)\n",
    "        self.labels = torch.tensor(labels)\n",
    "        self.masks = torch.from_numpy(masks)\n",
    "    def __getitem__(self, index):\n",
    "        return self.text[index],self.labels[index],self.masks[index]\n",
    "    def __len__(self):\n",
    "        return len(self.text)\n",
    "\n",
    "\n",
    "\n"
   ]
  },
  {
   "cell_type": "code",
   "execution_count": 3,
   "metadata": {},
   "outputs": [],
   "source": [
    "class arg_parser:\n",
    "    def __init__(self):\n",
    "        self.train_path = r'C:\\Users\\chunhui\\Desktop\\南京大学\\NLP组\\TextCNN_Mindspore\\THUCNews\\data\\train.txt'\n",
    "        self.dev_path = r'C:\\Users\\chunhui\\Desktop\\南京大学\\NLP组\\TextCNN_Mindspore\\THUCNews\\data\\dev.txt'\n",
    "        self.test_path = r'C:\\Users\\chunhui\\Desktop\\南京大学\\NLP组\\TextCNN_Mindspore\\THUCNews\\data\\test.txt'\n",
    "        self.vocab_path = r'C:\\Users\\chunhui\\Desktop\\南京大学\\NLP组\\TextCNN_Mindspore\\THUCNews\\checkpoint\\vocab.pkl'"
   ]
  },
  {
   "cell_type": "code",
   "execution_count": 4,
   "metadata": {},
   "outputs": [],
   "source": [
    "args = arg_parser()\n",
    "p = Preload_Data(args)"
   ]
  },
  {
   "cell_type": "code",
   "execution_count": 5,
   "metadata": {},
   "outputs": [
    {
     "name": "stderr",
     "output_type": "stream",
     "text": [
      "180000it [00:00, 690308.67it/s]\n",
      "10000it [00:00, 624793.91it/s]\n",
      "10000it [00:00, 625978.15it/s]\n"
     ]
    }
   ],
   "source": []
  },
  {
   "cell_type": "code",
   "execution_count": 7,
   "metadata": {},
   "outputs": [],
   "source": [
    "import torch"
   ]
  },
  {
   "cell_type": "code",
   "execution_count": 8,
   "metadata": {},
   "outputs": [],
   "source": [
    "def main(p):\n",
    "    train_text,train_labels,train_masks,dev_text,dev_labels,dev_masks,\\\n",
    "    test_text,test_labels,test_masks,vocab_size,train_contents,dev_contents,test_contents = p.build_dataset()\n",
    "    return train_text,train_labels,train_masks,dev_text,dev_labels,dev_masks,\\\n",
    "    test_text,test_labels,test_masks,vocab_size,train_contents,dev_contents,test_contents"
   ]
  },
  {
   "cell_type": "code",
   "execution_count": 6,
   "metadata": {},
   "outputs": [
    {
     "ename": "NameError",
     "evalue": "name 'torch' is not defined",
     "output_type": "error",
     "traceback": [
      "\u001b[1;31m---------------------------------------------------------------------------\u001b[0m",
      "\u001b[1;31mNameError\u001b[0m                                 Traceback (most recent call last)",
      "\u001b[1;32m<ipython-input-6-2fa631db8071>\u001b[0m in \u001b[0;36m<module>\u001b[1;34m\u001b[0m\n\u001b[0;32m      1\u001b[0m from torch.utils.data import (DataLoader, RandomSampler, SequentialSampler,\n\u001b[0;32m      2\u001b[0m                               TensorDataset)\n\u001b[1;32m----> 3\u001b[1;33m \u001b[0mtrain_data\u001b[0m \u001b[1;33m=\u001b[0m \u001b[0mDataset\u001b[0m\u001b[1;33m(\u001b[0m\u001b[0mtrain_text\u001b[0m\u001b[1;33m,\u001b[0m \u001b[0mtrain_labels\u001b[0m\u001b[1;33m,\u001b[0m\u001b[0mtrain_masks\u001b[0m\u001b[1;33m)\u001b[0m\u001b[1;33m\u001b[0m\u001b[1;33m\u001b[0m\u001b[0m\n\u001b[0m\u001b[0;32m      4\u001b[0m \u001b[0mtrain_dataloader\u001b[0m \u001b[1;33m=\u001b[0m \u001b[0mDataLoader\u001b[0m\u001b[1;33m(\u001b[0m\u001b[0mtrain_data\u001b[0m\u001b[1;33m,\u001b[0m\u001b[0mbatch_size\u001b[0m\u001b[1;33m=\u001b[0m\u001b[1;36m32\u001b[0m\u001b[1;33m,\u001b[0m\u001b[0mshuffle\u001b[0m\u001b[1;33m=\u001b[0m\u001b[1;32mTrue\u001b[0m\u001b[1;33m)\u001b[0m\u001b[1;33m\u001b[0m\u001b[1;33m\u001b[0m\u001b[0m\n",
      "\u001b[1;32m<ipython-input-2-0da7283f4d23>\u001b[0m in \u001b[0;36m__init__\u001b[1;34m(self, text, labels, masks)\u001b[0m\n\u001b[0;32m    101\u001b[0m \u001b[1;32mclass\u001b[0m \u001b[0mDataset\u001b[0m\u001b[1;33m:\u001b[0m\u001b[1;33m\u001b[0m\u001b[1;33m\u001b[0m\u001b[0m\n\u001b[0;32m    102\u001b[0m     \u001b[1;32mdef\u001b[0m \u001b[0m__init__\u001b[0m\u001b[1;33m(\u001b[0m\u001b[0mself\u001b[0m\u001b[1;33m,\u001b[0m\u001b[0mtext\u001b[0m\u001b[1;33m,\u001b[0m\u001b[0mlabels\u001b[0m\u001b[1;33m,\u001b[0m\u001b[0mmasks\u001b[0m\u001b[1;33m)\u001b[0m\u001b[1;33m:\u001b[0m\u001b[1;33m\u001b[0m\u001b[1;33m\u001b[0m\u001b[0m\n\u001b[1;32m--> 103\u001b[1;33m         \u001b[0mself\u001b[0m\u001b[1;33m.\u001b[0m\u001b[0mtext\u001b[0m \u001b[1;33m=\u001b[0m \u001b[0mtorch\u001b[0m\u001b[1;33m.\u001b[0m\u001b[0mtensor\u001b[0m\u001b[1;33m(\u001b[0m\u001b[0mtext\u001b[0m\u001b[1;33m)\u001b[0m\u001b[1;33m\u001b[0m\u001b[1;33m\u001b[0m\u001b[0m\n\u001b[0m\u001b[0;32m    104\u001b[0m         \u001b[0mself\u001b[0m\u001b[1;33m.\u001b[0m\u001b[0mlabels\u001b[0m \u001b[1;33m=\u001b[0m \u001b[0mtorch\u001b[0m\u001b[1;33m.\u001b[0m\u001b[0mtensor\u001b[0m\u001b[1;33m(\u001b[0m\u001b[0mlabels\u001b[0m\u001b[1;33m)\u001b[0m\u001b[1;33m\u001b[0m\u001b[1;33m\u001b[0m\u001b[0m\n\u001b[0;32m    105\u001b[0m         \u001b[0mself\u001b[0m\u001b[1;33m.\u001b[0m\u001b[0mmasks\u001b[0m \u001b[1;33m=\u001b[0m \u001b[0mtorch\u001b[0m\u001b[1;33m.\u001b[0m\u001b[0mfrom_numpy\u001b[0m\u001b[1;33m(\u001b[0m\u001b[0mmasks\u001b[0m\u001b[1;33m)\u001b[0m\u001b[1;33m\u001b[0m\u001b[1;33m\u001b[0m\u001b[0m\n",
      "\u001b[1;31mNameError\u001b[0m: name 'torch' is not defined"
     ]
    }
   ],
   "source": [
    "from torch.utils.data import (DataLoader, RandomSampler, SequentialSampler,\n",
    "                              TensorDataset)\n",
    "train_data = Dataset(train_text, train_labels,train_masks)\n",
    "train_dataloader = DataLoader(train_data,batch_size=32,shuffle=True)"
   ]
  },
  {
   "cell_type": "code",
   "execution_count": null,
   "metadata": {},
   "outputs": [],
   "source": []
  }
 ],
 "metadata": {
  "kernelspec": {
   "display_name": "Python 3",
   "language": "python",
   "name": "python3"
  },
  "language_info": {
   "codemirror_mode": {
    "name": "ipython",
    "version": 3
   },
   "file_extension": ".py",
   "mimetype": "text/x-python",
   "name": "python",
   "nbconvert_exporter": "python",
   "pygments_lexer": "ipython3",
   "version": "3.8.5"
  }
 },
 "nbformat": 4,
 "nbformat_minor": 4
}
