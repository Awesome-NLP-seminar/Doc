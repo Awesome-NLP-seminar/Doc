{
 "cells": [
  {
   "cell_type": "markdown",
   "metadata": {},
   "source": [
    "# Python Modules and Packages\n",
    "\n",
    "> 参考：\n",
    "> 1. [彻底明白Python package和模块](https://www.jianshu.com/p/178c26789011)\n",
    "> 2. [Python Modules vs Packages](https://data-flair.training/blogs/python-modules-vs-packages/#:~:text=A%20module%20is%20a%20file,does%20not%20apply%20to%20modules.)\n",
    "> 3. [`__init__.py`的神奇用法](https://zhuanlan.zhihu.com/p/115350758)\n",
    "\n"
   ]
  },
  {
   "cell_type": "markdown",
   "metadata": {},
   "source": [
    "## Definition\n",
    "\n",
    "1. A module is a file containing Python code. A package, however, is like a directory that holds sub-packages and modules.\n",
    "2. A package must hold the file `__init__.py`. This does not apply to modules.\n",
    "3. To import everything from a module, we use the wildcard `*`. But this does not work with packages.\n",
    "\n",
    "*注：在python3.3版本之前，初始化一个包必须包含`__init__.py`文件，之后这就不必备的文件了，但是一般都会包含*"
   ]
  },
  {
   "cell_type": "markdown",
   "metadata": {},
   "source": [
    "## Search Path\n",
    "When we import a module, the interpreter searches from the following sources:\n",
    "\n",
    "1. The directory from which the input script was run, or the **current directory** if the interpreter is being run interactively\n",
    "2. The list of directories contained in the `PYTHONPATH` environment variable, if it is set. (The format for `PYTHONPATH` is OS-dependent but should mimic the `PATH` environment variable.)\n",
    "3. An installation-dependent list of directories configured at the time Python is installed."
   ]
  },
  {
   "cell_type": "code",
   "execution_count": 1,
   "metadata": {},
   "outputs": [
    {
     "name": "stdout",
     "output_type": "stream",
     "text": [
      "d:\\My\\MyCode\\package_learn\n",
      "D:\\Anaconda\\python38.zip\n",
      "D:\\Anaconda\\DLLs\n",
      "D:\\Anaconda\\lib\n",
      "D:\\Anaconda\n",
      "\n",
      "D:\\Anaconda\\lib\\site-packages\n",
      "D:\\Anaconda\\lib\\site-packages\\locket-0.2.1-py3.8.egg\n",
      "D:\\Anaconda\\lib\\site-packages\\win32\n",
      "D:\\Anaconda\\lib\\site-packages\\win32\\lib\n",
      "D:\\Anaconda\\lib\\site-packages\\Pythonwin\n",
      "D:\\Anaconda\\lib\\site-packages\\IPython\\extensions\n",
      "C:\\Users\\Alex\\.ipython\n",
      "C:\\Users\\Alex\\AppData\\Roaming\\Python\\Python38\\site-packages\n"
     ]
    }
   ],
   "source": [
    "import sys\n",
    "import collections\n",
    "\n",
    "for i in sys.path:\n",
    "    print(i)"
   ]
  },
  {
   "cell_type": "markdown",
   "metadata": {},
   "source": [
    "### `__file__`\n",
    "\n",
    "To see where the module is in your filesystem.\n",
    "\n",
    "> The file attribute is not present for C modules that are statically linked into the interpreter; for extension modules loaded dynamically from a shared library, it is the pathname of the shared library file.\n"
   ]
  },
  {
   "cell_type": "code",
   "execution_count": 2,
   "metadata": {},
   "outputs": [
    {
     "name": "stdout",
     "output_type": "stream",
     "text": [
      "D:\\Anaconda\\lib\\collections\\__init__.py\n"
     ]
    },
    {
     "ename": "AttributeError",
     "evalue": "module 'sys' has no attribute '__file__'",
     "output_type": "error",
     "traceback": [
      "\u001b[1;31m---------------------------------------------------------------------------\u001b[0m",
      "\u001b[1;31mAttributeError\u001b[0m                            Traceback (most recent call last)",
      "\u001b[1;32m<ipython-input-2-a39cdbc950e9>\u001b[0m in \u001b[0;36m<module>\u001b[1;34m\u001b[0m\n\u001b[0;32m      1\u001b[0m \u001b[0mprint\u001b[0m\u001b[1;33m(\u001b[0m\u001b[0mcollections\u001b[0m\u001b[1;33m.\u001b[0m\u001b[0m__file__\u001b[0m\u001b[1;33m)\u001b[0m \u001b[1;31m# dynamically linked\u001b[0m\u001b[1;33m\u001b[0m\u001b[1;33m\u001b[0m\u001b[0m\n\u001b[1;32m----> 2\u001b[1;33m \u001b[0mprint\u001b[0m\u001b[1;33m(\u001b[0m\u001b[0msys\u001b[0m\u001b[1;33m.\u001b[0m\u001b[0m__file__\u001b[0m\u001b[1;33m)\u001b[0m \u001b[1;31m# staticlly linked\u001b[0m\u001b[1;33m\u001b[0m\u001b[1;33m\u001b[0m\u001b[0m\n\u001b[0m",
      "\u001b[1;31mAttributeError\u001b[0m: module 'sys' has no attribute '__file__'"
     ]
    }
   ],
   "source": [
    "print(collections.__file__) # dynamically linked\n",
    "print(sys.__file__) # staticlly linked"
   ]
  },
  {
   "cell_type": "markdown",
   "metadata": {},
   "source": [
    "### dir() \n",
    "> 函数不带参数时，返回当前范围内的变量、方法和定义的类型列表；带参数时，返回参数的属性、方法列表。如果参数包含方法__dir__()，该方法将被调用。如果参数不包含__dir__()，该方法将最大限度地收集参数信息。"
   ]
  },
  {
   "cell_type": "code",
   "execution_count": 7,
   "metadata": {},
   "outputs": [
    {
     "data": {
      "text/plain": [
       "['__add__',\n",
       " '__and__',\n",
       " '__class__',\n",
       " '__contains__',\n",
       " '__delattr__',\n",
       " '__delitem__',\n",
       " '__dict__',\n",
       " '__dir__',\n",
       " '__doc__',\n",
       " '__eq__',\n",
       " '__format__',\n",
       " '__ge__',\n",
       " '__getattribute__',\n",
       " '__getitem__',\n",
       " '__gt__',\n",
       " '__hash__',\n",
       " '__iadd__',\n",
       " '__iand__',\n",
       " '__init__',\n",
       " '__init_subclass__',\n",
       " '__ior__',\n",
       " '__isub__',\n",
       " '__iter__',\n",
       " '__le__',\n",
       " '__len__',\n",
       " '__lt__',\n",
       " '__missing__',\n",
       " '__module__',\n",
       " '__ne__',\n",
       " '__neg__',\n",
       " '__new__',\n",
       " '__or__',\n",
       " '__pos__',\n",
       " '__reduce__',\n",
       " '__reduce_ex__',\n",
       " '__repr__',\n",
       " '__reversed__',\n",
       " '__setattr__',\n",
       " '__setitem__',\n",
       " '__sizeof__',\n",
       " '__str__',\n",
       " '__sub__',\n",
       " '__subclasshook__',\n",
       " '__weakref__',\n",
       " '_keep_positive',\n",
       " 'clear',\n",
       " 'copy',\n",
       " 'elements',\n",
       " 'fromkeys',\n",
       " 'get',\n",
       " 'items',\n",
       " 'keys',\n",
       " 'most_common',\n",
       " 'pop',\n",
       " 'popitem',\n",
       " 'setdefault',\n",
       " 'subtract',\n",
       " 'update',\n",
       " 'values']"
      ]
     },
     "execution_count": 7,
     "metadata": {},
     "output_type": "execute_result"
    }
   ],
   "source": [
    "# dir()\n",
    "# help(collections)\n",
    "dir(collections.Counter)"
   ]
  },
  {
   "cell_type": "markdown",
   "metadata": {},
   "source": [
    "## Reloading a Python Module\n",
    "一个模块只会被加载一次，即使模块里的内容被修改了，再次import也不会加载更新的内容。需要使用`imp`进行`reload`\n",
    "\n",
    "> Reload a previously imported module. The argument must be a module object, so it must have been successfully imported before. This is useful if you have edited the module source file using an external editor and want to try out the new version without leaving the Python interpreter. The return value is the module object (the same as the module argument)."
   ]
  },
  {
   "cell_type": "code",
   "execution_count": 2,
   "metadata": {},
   "outputs": [
    {
     "name": "stdout",
     "output_type": "stream",
     "text": [
      "version: 2\n",
      "version: 2\n"
     ]
    },
    {
     "data": {
      "text/plain": [
       "['In',\n",
       " 'Out',\n",
       " '_',\n",
       " '__',\n",
       " '___',\n",
       " '__builtin__',\n",
       " '__builtins__',\n",
       " '__doc__',\n",
       " '__loader__',\n",
       " '__name__',\n",
       " '__package__',\n",
       " '__spec__',\n",
       " '__vsc_ipynb_file__',\n",
       " '_dh',\n",
       " '_i',\n",
       " '_i1',\n",
       " '_i2',\n",
       " '_ih',\n",
       " '_ii',\n",
       " '_iii',\n",
       " '_oh',\n",
       " 'exit',\n",
       " 'get_ipython',\n",
       " 'get_num',\n",
       " 'imp',\n",
       " 'os',\n",
       " 'quit',\n",
       " 'site',\n",
       " 'sys',\n",
       " 'test_reload']"
      ]
     },
     "execution_count": 2,
     "metadata": {},
     "output_type": "execute_result"
    }
   ],
   "source": [
    "import test_reload\n",
    "from test_reload import get_num\n",
    "\n",
    "test_reload.get_num()\n",
    "get_num()\n",
    "dir()"
   ]
  },
  {
   "cell_type": "code",
   "execution_count": 3,
   "metadata": {},
   "outputs": [
    {
     "name": "stdout",
     "output_type": "stream",
     "text": [
      "(<_io.TextIOWrapper name='d:\\\\My\\\\MyCode\\\\package_learn\\\\test_reload.py' mode='r' encoding='utf-8'>, 'd:\\\\My\\\\MyCode\\\\package_learn\\\\test_reload.py', ('.py', 'r', 1))\n",
      "version: 2\n",
      "version: 2\n"
     ]
    }
   ],
   "source": [
    "import imp\n",
    "print(imp.find_module(\"test_reload\"))\n",
    "imp.reload(test_reload)\n",
    "\n",
    "test_reload.get_num()\n",
    "get_num()"
   ]
  },
  {
   "cell_type": "markdown",
   "metadata": {},
   "source": [
    "## 模块的导入\n",
    "\n",
    "先查看sound package的结构\n",
    "\n",
    "```bash\n",
    "tree [path] /f\n",
    "```\n"
   ]
  },
  {
   "cell_type": "code",
   "execution_count": 6,
   "metadata": {},
   "outputs": [
    {
     "name": "stdout",
     "output_type": "stream",
     "text": [
      "�� Data ���ļ��� PATH �б�\n",
      "�����к�Ϊ 360A-7D17\n",
      "D:\\MY\\MYCODE\\PACKAGE_LEARN\\SOUND\n",
      "|   __init__.py\n",
      "|   \n",
      "+---effects\n",
      "|   |   echo.py\n",
      "|   |   reverse.py\n",
      "|   |   surround.py\n",
      "|   |   __init__.py\n",
      "|   |   \n",
      "|   \\---__pycache__\n",
      "|           echo.cpython-38.pyc\n",
      "|           reverse.cpython-38.pyc\n",
      "|           surround.cpython-38.pyc\n",
      "|           __init__.cpython-38.pyc\n",
      "|           \n",
      "+---filters\n",
      "|   |   equalizer.py\n",
      "|   |   karaoke.py\n",
      "|   |   vocoder.py\n",
      "|   |   __init__.py\n",
      "|   |   \n",
      "|   \\---__pycache__\n",
      "|           equalizer.cpython-38.pyc\n",
      "|           __init__.cpython-38.pyc\n",
      "|           \n",
      "+---formats\n",
      "|   |   aiffread.py\n",
      "|   |   aiffwrite.py\n",
      "|   |   auread.py\n",
      "|   |   auwrite.py\n",
      "|   |   wavread.py\n",
      "|   |   wavwrite.py\n",
      "|   |   __init__.py\n",
      "|   |   \n",
      "|   \\---__pycache__\n",
      "|           __init__.cpython-38.pyc\n",
      "|           \n",
      "\\---__pycache__\n",
      "        __init__.cpython-38.pyc\n",
      "        \n"
     ]
    }
   ],
   "source": [
    "!tree sound /f /a"
   ]
  },
  {
   "cell_type": "markdown",
   "metadata": {},
   "source": [
    "### 绝对路径导入\n",
    "\n",
    "导入一些包比较麻烦，能不能自动导入？\n",
    "\n",
    "写入`__init__.py`文件\n",
    "\n",
    "```python\n",
    "import sound.effects\n",
    "```"
   ]
  },
  {
   "cell_type": "code",
   "execution_count": 1,
   "metadata": {},
   "outputs": [
    {
     "name": "stdout",
     "output_type": "stream",
     "text": [
      "sound package is getting imported!\n",
      "effects package is getting imported!\n",
      "Module echo.py has been loaded!\n",
      "['In', 'Out', '_', '__', '___', '__builtin__', '__builtins__', '__doc__', '__loader__', '__name__', '__package__', '__spec__', '__vsc_ipynb_file__', '_dh', '_i', '_i1', '_ih', '_ii', '_iii', '_oh', 'exit', 'get_ipython', 'os', 'quit', 'site', 'sound', 'sys']\n",
      "<module 'sound' from 'd:\\\\My\\\\MyCode\\\\package_learn\\\\sound\\\\__init__.py'>\n",
      "<module 'sound.effects' from 'd:\\\\My\\\\MyCode\\\\package_learn\\\\sound\\\\effects\\\\__init__.py'>\n",
      "<module 'sound.effects.echo' from 'd:\\\\My\\\\MyCode\\\\package_learn\\\\sound\\\\effects\\\\echo.py'>\n"
     ]
    }
   ],
   "source": [
    "# import sound\n",
    "# import sound.effects\n",
    "import sound.effects.echo\n",
    "\n",
    "print(dir())\n",
    "print(sound)\n",
    "print(sound.effects)\n",
    "print(sound.effects.echo)\n",
    "sound.effects.echo.func1()\n",
    "\n",
    "\n"
   ]
  },
  {
   "cell_type": "markdown",
   "metadata": {},
   "source": [
    "\n",
    "### 相对路径导入\n",
    "\n",
    "`.`代表当前目录，`..`代表上级目录\n",
    "\n",
    "```python\n",
    "from .effects import echo\n",
    "```"
   ]
  },
  {
   "cell_type": "code",
   "execution_count": 1,
   "metadata": {},
   "outputs": [
    {
     "name": "stdout",
     "output_type": "stream",
     "text": [
      "effects package is getting imported!\n",
      "Module echo.py has been loaded!\n",
      "sound package is getting imported!\n",
      "Funktion func1 has been called!\n"
     ]
    }
   ],
   "source": [
    "import sound\n",
    "sound.echo.func1()"
   ]
  },
  {
   "cell_type": "code",
   "execution_count": 1,
   "metadata": {},
   "outputs": [
    {
     "name": "stdout",
     "output_type": "stream",
     "text": [
      "Module surround.py has been loaded!\n",
      "filters package is getting imported!\n",
      "Module equalizer.py has been loaded!\n",
      "effects package is getting imported!\n",
      "Module echo.py has been loaded!\n",
      "sound package is getting imported!\n"
     ]
    },
    {
     "data": {
      "text/plain": [
       "['In',\n",
       " 'Out',\n",
       " '_',\n",
       " '__',\n",
       " '___',\n",
       " '__builtin__',\n",
       " '__builtins__',\n",
       " '__doc__',\n",
       " '__loader__',\n",
       " '__name__',\n",
       " '__package__',\n",
       " '__spec__',\n",
       " '__vsc_ipynb_file__',\n",
       " '_dh',\n",
       " '_i',\n",
       " '_i1',\n",
       " '_ih',\n",
       " '_ii',\n",
       " '_iii',\n",
       " '_oh',\n",
       " 'e',\n",
       " 'exit',\n",
       " 'get_ipython',\n",
       " 'os',\n",
       " 'quit',\n",
       " 'site',\n",
       " 'sys']"
      ]
     },
     "execution_count": 1,
     "metadata": {},
     "output_type": "execute_result"
    }
   ],
   "source": [
    "from sound import effects as e\n",
    "\n",
    "dir()"
   ]
  },
  {
   "cell_type": "code",
   "execution_count": 2,
   "metadata": {},
   "outputs": [
    {
     "name": "stdout",
     "output_type": "stream",
     "text": [
      "Funktion func2 has been called!\n",
      "Funktion func1 has been called!\n"
     ]
    }
   ],
   "source": [
    "# e.reverse.func1() # 无高亮\n",
    "e.surround.func2() # 有高亮\n",
    "e.echo.func1() # 未导入"
   ]
  },
  {
   "cell_type": "markdown",
   "metadata": {},
   "source": [
    " ### 导入整个package\n",
    " \n",
    " `__all__` 魔法变量\n",
    " \n",
    " 手动控制 `*` 导入的模块、子package、变量或函数\n",
    "\n",
    " ```python\n",
    "__all__ = [\"formats\", \"filters\", \"effects\", \"foobar\"]\n",
    " ```"
   ]
  },
  {
   "cell_type": "code",
   "execution_count": 3,
   "metadata": {},
   "outputs": [
    {
     "data": {
      "text/plain": [
       "<module 'sound.effects' from 'd:\\\\My\\\\MyCode\\\\package_learn\\\\sound\\\\effects\\\\__init__.py'>"
      ]
     },
     "execution_count": 3,
     "metadata": {},
     "output_type": "execute_result"
    }
   ],
   "source": [
    "from sound import *\n",
    "dir()\n",
    "effects"
   ]
  },
  {
   "cell_type": "markdown",
   "metadata": {},
   "source": [
    "### 例子\n",
    "\n",
    "- arithmetic\n",
    "- transformers"
   ]
  },
  {
   "cell_type": "markdown",
   "metadata": {},
   "source": [
    "### One More Thing\n",
    "\n",
    "What does `conda activate env` do ? [link](https://stackoverflow.com/questions/48585040/conda-what-happens-when-you-activate-an-environment)\n",
    "\n",
    "\n",
    "```bash\n",
    "conda activate sqa\n",
    "['', 'D:\\\\Anaconda\\\\envs\\\\sqa\\\\python38.zip', 'D:\\\\Anaconda\\\\envs\\\\sqa\\\\DLLs', 'D:\\\\Anaconda\\\\envs\\\\sqa\\\\lib', 'D:\\\\Anaconda\\\\envs\\\\sqa', 'D:\\\\Anaconda\\\\envs\\\\sqa\\\\lib\\\\site-packages', 'D:\\\\Anaconda\\\\envs\\\\sqa\\\\lib\\\\site-packages\\\\win32', 'D:\\\\Anaconda\\\\envs\\\\sqa\\\\lib\\\\site-packages\\\\win32\\\\lib', 'D:\\\\Anaconda\\\\envs\\\\sqa\\\\lib\\\\site-packages\\\\Pythonwin']\n",
    "\n",
    "conda activate base\n",
    "['', 'D:\\\\Anaconda\\\\python38.zip', 'D:\\\\Anaconda\\\\DLLs', 'D:\\\\Anaconda\\\\lib', 'D:\\\\Anaconda', 'D:\\\\Anaconda\\\\lib\\\\site-packages', 'D:\\\\Anaconda\\\\lib\\\\site-packages\\\\locket-0.2.1-py3.8.egg', 'D:\\\\Anaconda\\\\lib\\\\site-packages\\\\win32', 'D:\\\\Anaconda\\\\lib\\\\site-packages\\\\win32\\\\lib', 'D:\\\\Anaconda\\\\lib\\\\site-packages\\\\Pythonwin']\n",
    "\n",
    "```"
   ]
  },
  {
   "cell_type": "markdown",
   "metadata": {},
   "source": [
    "## 总结\n",
    "\n",
    "1. 在 `from package import *` 语句中，如果 `__init__.py` 中定义了 `__all__` 魔法变量，那么在`__all__`内的所有元素都会被作为模块自动被导入（ImportError任然会出现，如果自动导入的模块不存在的话）。\n",
    "\n",
    "2. 如果 `__init__.py` 中没有 `__all__` 变量，导出将按照以下规则执行：\n",
    "    - 此 package 被导入，并且执行 `__init__.py` 中可被执行的代码\n",
    "    - `__init__.py` 中定义的 variable 被导入\n",
    "    - `__init__.py` 中被显式导入的 module 被导入\n",
    "\n",
    "3. `__init__.py`的设计原则\n",
    "   \n",
    "   `__init__.py`的原始使命是声明一个模块，所以它可以是一个空文件。在`__init__.py`中声明的所有类型和变量，就是其代表的模块的类型和变量。我们在利用`__init__.py`时，应该遵循如下几个原则：\n",
    "\n",
    "    - 不要污染现有的命名空间。模块一个目的，是为了避免命名冲突，如果你在种用`__init__.py`时违背这个原则，是反其道而为之，就没有必要使用模块了。\n",
    "\n",
    "    - 利用`__init__.py`对外提供类型、变量和接口，对用户隐藏各个子模块的实现。一个模块的实现可能非常复杂，你需要用很多个文件，甚至很多子模块来实现，但用户可能只需要知道一个类型和接口。就像我们的arithmetic例子中，用户只需要知道四则运算有add、sub、mul、dev四个接口，却并不需要知道它们是怎么实现的，也不想去了解arithmetic中是如何组织各个子模块的。由于各个子模块的实现有可能非常复杂，而对外提供的类型和接口有可能非常的简单，我们就可以通过这个方式来对用户隐藏实现，同时提供非常方便的使用。\n",
    "\n",
    "    - 只在`__init__.py`中导入有必要的内容，不要做没必要的运算。像我们的例子，import arithmetic语句会执行__ini__.py中的所有代码。如果我们在`__init__.py`中做太多事情，每次import都会有额外的运算，会造成没有必要的开销。一句话，`__init__.py`只是为了达到B中所表述的目的，其它事情就不要做啦。\n",
    "\n"
   ]
  }
 ],
 "metadata": {
  "interpreter": {
   "hash": "07efdcd4b820c98a756949507a4d29d7862823915ec7477944641bea022f4f62"
  },
  "kernelspec": {
   "display_name": "Python 3.8.8 ('base')",
   "language": "python",
   "name": "python3"
  },
  "language_info": {
   "codemirror_mode": {
    "name": "ipython",
    "version": 3
   },
   "file_extension": ".py",
   "mimetype": "text/x-python",
   "name": "python",
   "nbconvert_exporter": "python",
   "pygments_lexer": "ipython3",
   "version": "3.8.8"
  },
  "orig_nbformat": 4
 },
 "nbformat": 4,
 "nbformat_minor": 2
}
